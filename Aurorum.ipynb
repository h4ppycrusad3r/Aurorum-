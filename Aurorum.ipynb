{
 "cells": [
  {
   "cell_type": "code",
   "execution_count": 8,
   "id": "sixth-journey",
   "metadata": {},
   "outputs": [],
   "source": [
    "#Main imports\n",
    "import matplotlib.pyplot as plt\n",
    "import matplotlib.image as mpimg\n",
    "from PIL import Image\n",
    "import numpy as np"
   ]
  },
  {
   "cell_type": "code",
   "execution_count": 11,
   "id": "proprietary-microphone",
   "metadata": {},
   "outputs": [],
   "source": [
    "def area_calculator(im):\n",
    "    total_area = 296000000#km^2\n",
    "    pixel_count = 2653*1277#px\n",
    "    area_per_pixel = total_area/pixel_count\n",
    "    def getcolordict(im):\n",
    "        w,h = im.size\n",
    "        colors = im.getcolors(w*h)\n",
    "        colordict = { x[1]:x[0] for x in colors }\n",
    "        return colordict\n",
    "    colordict = getcolordict(im)\n",
    "    pixels_count = colordict.get((24,114,2))\n",
    "    area = pixels_count*area_per_pixel\n",
    "    print('The area of the country is', np.around(area, 1), 'sq. km')"
   ]
  },
  {
   "cell_type": "code",
   "execution_count": 12,
   "id": "roman-damage",
   "metadata": {},
   "outputs": [
    {
     "name": "stdout",
     "output_type": "stream",
     "text": [
      "The area of the country is 540821.8 sq. km\n"
     ]
    }
   ],
   "source": [
    "im = Image.open('dulebia.png')\n",
    "area_calculator(im)"
   ]
  }
 ],
 "metadata": {
  "kernelspec": {
   "display_name": "Python 3",
   "language": "python",
   "name": "python3"
  },
  "toc": {
   "base_numbering": 1,
   "nav_menu": {},
   "number_sections": true,
   "sideBar": true,
   "skip_h1_title": false,
   "title_cell": "Table of Contents",
   "title_sidebar": "Contents",
   "toc_cell": false,
   "toc_position": {},
   "toc_section_display": true,
   "toc_window_display": true
  }
 },
 "nbformat": 4,
 "nbformat_minor": 5
}
